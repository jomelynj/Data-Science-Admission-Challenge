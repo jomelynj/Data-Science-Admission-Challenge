{
 "cells": [
  {
   "cell_type": "markdown",
   "id": "ed175a82",
   "metadata": {},
   "source": [
    "# Project Submission\n",
    "\n",
    "**Please use this notebook for your submission.**\n",
    "\n",
    "Make sure to fill out all the required fields and to answer all the questions.\n",
    "\n",
    "You will be working with a dataset that includes the results of international football matches from 1872 to 2024. The matches range from FIFA World Cups to regular friendly matches. \n",
    "\n",
    "At the end of this project, you will have answered the following questions:\n",
    "\n",
    "1. What is the average number of goals for the home team? \n",
    "2. What is the average number of goals for the away team? \n",
    "3. What is the country with the highest overall home score?\n",
    "4. What are the top 3 type of tournaments?\n",
    "5. Which country has the highest overall FIFA World Cup goals?\n",
    "\n",
    "\n",
    "**Submission Requirements:**\n",
    "\n",
    "- Make sure that you run all cells with code in your notebook before submitting.\n",
    "- You can add additional cells of code if you want, but make sure to clean up your notebook, and only leave the code required to answer the questions.\n",
    "\n",
    "\n",
    "_Original Data Source: [Kaggle](https://www.kaggle.com/datasets/martj42/international-football-results-from-1872-to-2017/data)_"
   ]
  },
  {
   "cell_type": "markdown",
   "id": "43e336b8",
   "metadata": {},
   "source": [
    "## Step 1: Getting Started\n",
    "\n",
    "You will mainly work with a Python library called Pandas. Pandas is a powerful library that allows us to manipulate data. In order to use Pandas, you first have to import it. "
   ]
  },
  {
   "cell_type": "code",
   "execution_count": 22,
   "id": "3033fd44",
   "metadata": {},
   "outputs": [],
   "source": [
    "import pandas as pd\n",
    "import numpy as np"
   ]
  },
  {
   "cell_type": "markdown",
   "id": "f7e3b7f7",
   "metadata": {},
   "source": [
    "## Step 2: Loading and Exporing the Data\n",
    "\n",
    "You can use Pandas to explore and manipulate the _results.csv_ file. \n",
    "You first have to load the csv file into a Pandas dataframe, so you can then analyize the data. \n",
    "\n",
    "When using `pd.read_csv()`, make sure you inlcude the correct path to the csv file, depending on where you saved it when you downloaded it."
   ]
  },
  {
   "cell_type": "code",
   "execution_count": 33,
   "id": "327786fb",
   "metadata": {
    "scrolled": true
   },
   "outputs": [
    {
     "data": {
      "text/html": [
       "<div>\n",
       "<style scoped>\n",
       "    .dataframe tbody tr th:only-of-type {\n",
       "        vertical-align: middle;\n",
       "    }\n",
       "\n",
       "    .dataframe tbody tr th {\n",
       "        vertical-align: top;\n",
       "    }\n",
       "\n",
       "    .dataframe thead th {\n",
       "        text-align: right;\n",
       "    }\n",
       "</style>\n",
       "<table border=\"1\" class=\"dataframe\">\n",
       "  <thead>\n",
       "    <tr style=\"text-align: right;\">\n",
       "      <th></th>\n",
       "      <th>date</th>\n",
       "      <th>home_team</th>\n",
       "      <th>away_team</th>\n",
       "      <th>home_score</th>\n",
       "      <th>away_score</th>\n",
       "      <th>tournament</th>\n",
       "      <th>city</th>\n",
       "      <th>country</th>\n",
       "      <th>neutral</th>\n",
       "    </tr>\n",
       "  </thead>\n",
       "  <tbody>\n",
       "    <tr>\n",
       "      <th>0</th>\n",
       "      <td>1872-11-30</td>\n",
       "      <td>Scotland</td>\n",
       "      <td>England</td>\n",
       "      <td>0</td>\n",
       "      <td>0</td>\n",
       "      <td>Friendly</td>\n",
       "      <td>Glasgow</td>\n",
       "      <td>Scotland</td>\n",
       "      <td>False</td>\n",
       "    </tr>\n",
       "    <tr>\n",
       "      <th>1</th>\n",
       "      <td>1873-03-08</td>\n",
       "      <td>England</td>\n",
       "      <td>Scotland</td>\n",
       "      <td>4</td>\n",
       "      <td>2</td>\n",
       "      <td>Friendly</td>\n",
       "      <td>London</td>\n",
       "      <td>England</td>\n",
       "      <td>False</td>\n",
       "    </tr>\n",
       "    <tr>\n",
       "      <th>2</th>\n",
       "      <td>1874-03-07</td>\n",
       "      <td>Scotland</td>\n",
       "      <td>England</td>\n",
       "      <td>2</td>\n",
       "      <td>1</td>\n",
       "      <td>Friendly</td>\n",
       "      <td>Glasgow</td>\n",
       "      <td>Scotland</td>\n",
       "      <td>False</td>\n",
       "    </tr>\n",
       "    <tr>\n",
       "      <th>3</th>\n",
       "      <td>1875-03-06</td>\n",
       "      <td>England</td>\n",
       "      <td>Scotland</td>\n",
       "      <td>2</td>\n",
       "      <td>2</td>\n",
       "      <td>Friendly</td>\n",
       "      <td>London</td>\n",
       "      <td>England</td>\n",
       "      <td>False</td>\n",
       "    </tr>\n",
       "    <tr>\n",
       "      <th>4</th>\n",
       "      <td>1876-03-04</td>\n",
       "      <td>Scotland</td>\n",
       "      <td>England</td>\n",
       "      <td>3</td>\n",
       "      <td>0</td>\n",
       "      <td>Friendly</td>\n",
       "      <td>Glasgow</td>\n",
       "      <td>Scotland</td>\n",
       "      <td>False</td>\n",
       "    </tr>\n",
       "    <tr>\n",
       "      <th>...</th>\n",
       "      <td>...</td>\n",
       "      <td>...</td>\n",
       "      <td>...</td>\n",
       "      <td>...</td>\n",
       "      <td>...</td>\n",
       "      <td>...</td>\n",
       "      <td>...</td>\n",
       "      <td>...</td>\n",
       "      <td>...</td>\n",
       "    </tr>\n",
       "    <tr>\n",
       "      <th>45310</th>\n",
       "      <td>2023-11-21</td>\n",
       "      <td>Wales</td>\n",
       "      <td>Turkey</td>\n",
       "      <td>1</td>\n",
       "      <td>1</td>\n",
       "      <td>UEFA Euro qualification</td>\n",
       "      <td>Cardiff</td>\n",
       "      <td>Wales</td>\n",
       "      <td>False</td>\n",
       "    </tr>\n",
       "    <tr>\n",
       "      <th>45311</th>\n",
       "      <td>2023-11-21</td>\n",
       "      <td>Croatia</td>\n",
       "      <td>Armenia</td>\n",
       "      <td>1</td>\n",
       "      <td>0</td>\n",
       "      <td>UEFA Euro qualification</td>\n",
       "      <td>Zagreb</td>\n",
       "      <td>Croatia</td>\n",
       "      <td>False</td>\n",
       "    </tr>\n",
       "    <tr>\n",
       "      <th>45312</th>\n",
       "      <td>2023-11-21</td>\n",
       "      <td>Andorra</td>\n",
       "      <td>Israel</td>\n",
       "      <td>0</td>\n",
       "      <td>2</td>\n",
       "      <td>UEFA Euro qualification</td>\n",
       "      <td>Andorra la Vella</td>\n",
       "      <td>Andorra</td>\n",
       "      <td>False</td>\n",
       "    </tr>\n",
       "    <tr>\n",
       "      <th>45313</th>\n",
       "      <td>2023-11-21</td>\n",
       "      <td>Kosovo</td>\n",
       "      <td>Belarus</td>\n",
       "      <td>0</td>\n",
       "      <td>1</td>\n",
       "      <td>UEFA Euro qualification</td>\n",
       "      <td>Pristina</td>\n",
       "      <td>Kosovo</td>\n",
       "      <td>False</td>\n",
       "    </tr>\n",
       "    <tr>\n",
       "      <th>45314</th>\n",
       "      <td>2023-11-21</td>\n",
       "      <td>Romania</td>\n",
       "      <td>Switzerland</td>\n",
       "      <td>1</td>\n",
       "      <td>0</td>\n",
       "      <td>UEFA Euro qualification</td>\n",
       "      <td>Bucharest</td>\n",
       "      <td>Romania</td>\n",
       "      <td>False</td>\n",
       "    </tr>\n",
       "  </tbody>\n",
       "</table>\n",
       "<p>45315 rows × 9 columns</p>\n",
       "</div>"
      ],
      "text/plain": [
       "             date home_team    away_team  home_score  away_score  \\\n",
       "0      1872-11-30  Scotland      England           0           0   \n",
       "1      1873-03-08   England     Scotland           4           2   \n",
       "2      1874-03-07  Scotland      England           2           1   \n",
       "3      1875-03-06   England     Scotland           2           2   \n",
       "4      1876-03-04  Scotland      England           3           0   \n",
       "...           ...       ...          ...         ...         ...   \n",
       "45310  2023-11-21     Wales       Turkey           1           1   \n",
       "45311  2023-11-21   Croatia      Armenia           1           0   \n",
       "45312  2023-11-21   Andorra       Israel           0           2   \n",
       "45313  2023-11-21    Kosovo      Belarus           0           1   \n",
       "45314  2023-11-21   Romania  Switzerland           1           0   \n",
       "\n",
       "                    tournament              city   country  neutral  \n",
       "0                     Friendly           Glasgow  Scotland    False  \n",
       "1                     Friendly            London   England    False  \n",
       "2                     Friendly           Glasgow  Scotland    False  \n",
       "3                     Friendly            London   England    False  \n",
       "4                     Friendly           Glasgow  Scotland    False  \n",
       "...                        ...               ...       ...      ...  \n",
       "45310  UEFA Euro qualification           Cardiff     Wales    False  \n",
       "45311  UEFA Euro qualification            Zagreb   Croatia    False  \n",
       "45312  UEFA Euro qualification  Andorra la Vella   Andorra    False  \n",
       "45313  UEFA Euro qualification          Pristina    Kosovo    False  \n",
       "45314  UEFA Euro qualification         Bucharest   Romania    False  \n",
       "\n",
       "[45315 rows x 9 columns]"
      ]
     },
     "execution_count": 33,
     "metadata": {},
     "output_type": "execute_result"
    }
   ],
   "source": [
    "# First: Load the csv file into a Pandas dataframe (df)\n",
    "\n",
    "df = pd.read_csv(r\"results.csv\")\n",
    "df"
   ]
  },
  {
   "cell_type": "markdown",
   "id": "6a2aa881",
   "metadata": {},
   "source": [
    "## Step 3: Data Analysis"
   ]
  },
  {
   "cell_type": "markdown",
   "id": "98b9d5dd",
   "metadata": {},
   "source": [
    "### Q1: What is the average number of goals for the home team?\n",
    "\n",
    "Hint: You can call the `mean()` method on the _'home_score'_ column."
   ]
  },
  {
   "cell_type": "code",
   "execution_count": 41,
   "id": "c2c5b5ea",
   "metadata": {},
   "outputs": [
    {
     "data": {
      "text/plain": [
       "<bound method Series.mean of 0        0\n",
       "1        4\n",
       "2        2\n",
       "3        2\n",
       "4        3\n",
       "        ..\n",
       "45310    1\n",
       "45311    1\n",
       "45312    0\n",
       "45313    0\n",
       "45314    1\n",
       "Name: home_score, Length: 45315, dtype: int64>"
      ]
     },
     "execution_count": 41,
     "metadata": {},
     "output_type": "execute_result"
    }
   ],
   "source": [
    "df['home_score'].mean"
   ]
  },
  {
   "cell_type": "markdown",
   "id": "ce194e01",
   "metadata": {},
   "source": [
    "### Q2: What is the average number of goals for the away team?\n",
    "\n",
    "Hint: You can call the `mean()` method on the _'away_score'_ column."
   ]
  },
  {
   "cell_type": "code",
   "execution_count": 42,
   "id": "4fb43467",
   "metadata": {},
   "outputs": [
    {
     "data": {
      "text/plain": [
       "<bound method Series.mean of 0        0\n",
       "1        2\n",
       "2        1\n",
       "3        2\n",
       "4        0\n",
       "        ..\n",
       "45310    1\n",
       "45311    0\n",
       "45312    2\n",
       "45313    1\n",
       "45314    0\n",
       "Name: away_score, Length: 45315, dtype: int64>"
      ]
     },
     "execution_count": 42,
     "metadata": {},
     "output_type": "execute_result"
    }
   ],
   "source": [
    "df['away_score'].mean"
   ]
  },
  {
   "cell_type": "markdown",
   "id": "c6044d75",
   "metadata": {},
   "source": [
    "### Q3: What is the country with the highest overall home score?\n",
    "\n",
    "Hint: You will need to group the data by country, then get the sum of home scores for each country. You can use the `idxmax()` function to find the index(country) with the highest sum. "
   ]
  },
  {
   "cell_type": "code",
   "execution_count": 47,
   "id": "e5d93b04",
   "metadata": {},
   "outputs": [
    {
     "data": {
      "text/plain": [
       "<bound method Series.idxmax of 0        Scotland\n",
       "1         England\n",
       "2        Scotland\n",
       "3         England\n",
       "4        Scotland\n",
       "           ...   \n",
       "45310       Wales\n",
       "45311     Croatia\n",
       "45312     Andorra\n",
       "45313      Kosovo\n",
       "45314     Romania\n",
       "Name: country, Length: 45315, dtype: object>"
      ]
     },
     "execution_count": 47,
     "metadata": {},
     "output_type": "execute_result"
    }
   ],
   "source": [
    "df['country'].idxmax"
   ]
  },
  {
   "cell_type": "markdown",
   "id": "47e0f275",
   "metadata": {},
   "source": [
    "### Q4: What are the top 3 type of tournaments?\n",
    "\n",
    "Hint: You can use the `value_counts()` method to count the occurences of each unique value in the _'tournament'_ column."
   ]
  },
  {
   "cell_type": "code",
   "execution_count": 105,
   "id": "2d65e4e3",
   "metadata": {},
   "outputs": [
    {
     "data": {
      "text/plain": [
       "tournament\n",
       "Friendly                                17773\n",
       "FIFA World Cup qualification             8016\n",
       "UEFA Euro qualification                  2815\n",
       "African Cup of Nations qualification     1998\n",
       "FIFA World Cup                            964\n",
       "                                        ...  \n",
       "Copa Confraternidad                         1\n",
       "TIFOCO Tournament                           1\n",
       "FIFA 75th Anniversary Cup                   1\n",
       "Real Madrid 75th Anniversary Cup            1\n",
       "Évence Coppée Trophy                        1\n",
       "Name: count, Length: 147, dtype: int64"
      ]
     },
     "execution_count": 105,
     "metadata": {},
     "output_type": "execute_result"
    }
   ],
   "source": [
    "# Code here\n",
    "\n",
    "df.value_counts('tournament')"
   ]
  },
  {
   "cell_type": "markdown",
   "id": "0bdc8158",
   "metadata": {},
   "source": [
    "### Q5: Which country has the highest overall FIFA World Cup goals?\n",
    "\n",
    "To answer this question, consider breaking down your solution into 3 steps.\n",
    "\n",
    "**5.1 Create a new dataframe (fifa_df) that only contains rows where the \"tournament\" column == 'FIFA World Cup'.**"
   ]
  },
  {
   "cell_type": "code",
   "execution_count": 66,
   "id": "db30530c",
   "metadata": {},
   "outputs": [
    {
     "data": {
      "text/html": [
       "<div>\n",
       "<style scoped>\n",
       "    .dataframe tbody tr th:only-of-type {\n",
       "        vertical-align: middle;\n",
       "    }\n",
       "\n",
       "    .dataframe tbody tr th {\n",
       "        vertical-align: top;\n",
       "    }\n",
       "\n",
       "    .dataframe thead th {\n",
       "        text-align: right;\n",
       "    }\n",
       "</style>\n",
       "<table border=\"1\" class=\"dataframe\">\n",
       "  <thead>\n",
       "    <tr style=\"text-align: right;\">\n",
       "      <th></th>\n",
       "      <th>0</th>\n",
       "    </tr>\n",
       "  </thead>\n",
       "  <tbody>\n",
       "    <tr>\n",
       "      <th>0</th>\n",
       "      <td>False</td>\n",
       "    </tr>\n",
       "  </tbody>\n",
       "</table>\n",
       "</div>"
      ],
      "text/plain": [
       "       0\n",
       "0  False"
      ]
     },
     "execution_count": 66,
     "metadata": {},
     "output_type": "execute_result"
    }
   ],
   "source": [
    "fifa_df = [\"tournament\"=='fifa world cup']\n",
    "df = pd.DataFrame(fifa_df)\n",
    "df"
   ]
  },
  {
   "cell_type": "markdown",
   "id": "c06b0011",
   "metadata": {},
   "source": [
    "**5.2 In your new fifa_df, create a new _'total_score'_ column that sums _'home_score'_ + _'away_score'_ for each row.**\n",
    "\n",
    "PS. If you get a \"SettingWithCopyWarning\", please ignore it."
   ]
  },
  {
   "cell_type": "code",
   "execution_count": 69,
   "id": "8dd33359",
   "metadata": {},
   "outputs": [
    {
     "data": {
      "text/html": [
       "<div>\n",
       "<style scoped>\n",
       "    .dataframe tbody tr th:only-of-type {\n",
       "        vertical-align: middle;\n",
       "    }\n",
       "\n",
       "    .dataframe tbody tr th {\n",
       "        vertical-align: top;\n",
       "    }\n",
       "\n",
       "    .dataframe thead th {\n",
       "        text-align: right;\n",
       "    }\n",
       "</style>\n",
       "<table border=\"1\" class=\"dataframe\">\n",
       "  <thead>\n",
       "    <tr style=\"text-align: right;\">\n",
       "      <th></th>\n",
       "      <th>0</th>\n",
       "    </tr>\n",
       "  </thead>\n",
       "  <tbody>\n",
       "    <tr>\n",
       "      <th>0</th>\n",
       "      <td>False</td>\n",
       "    </tr>\n",
       "  </tbody>\n",
       "</table>\n",
       "</div>"
      ],
      "text/plain": [
       "       0\n",
       "0  False"
      ]
     },
     "execution_count": 69,
     "metadata": {},
     "output_type": "execute_result"
    }
   ],
   "source": [
    "total_score = [\"tournament\"=='fifa world cup']\n",
    "df = pd.DataFrame(total_score)\n",
    "df"
   ]
  },
  {
   "cell_type": "markdown",
   "id": "9b7d48d2",
   "metadata": {},
   "source": [
    "**5.3 Group your data by country, then get the sum of the _'total_score'_ column. From there, you can use `idxmax()` to find the country with the highest _'total_score'_.**"
   ]
  },
  {
   "cell_type": "code",
   "execution_count": 73,
   "id": "682c7a8a",
   "metadata": {},
   "outputs": [
    {
     "data": {
      "text/plain": [
       "<bound method DataFrame.idxmax of Empty DataFrame\n",
       "Columns: [0]\n",
       "Index: []>"
      ]
     },
     "execution_count": 73,
     "metadata": {},
     "output_type": "execute_result"
    }
   ],
   "source": [
    "# Code here\n",
    "\n",
    "df[total_score].idxmax"
   ]
  }
 ],
 "metadata": {
  "kernelspec": {
   "display_name": "Python 3 (ipykernel)",
   "language": "python",
   "name": "python3"
  },
  "language_info": {
   "codemirror_mode": {
    "name": "ipython",
    "version": 3
   },
   "file_extension": ".py",
   "mimetype": "text/x-python",
   "name": "python",
   "nbconvert_exporter": "python",
   "pygments_lexer": "ipython3",
   "version": "3.11.7"
  }
 },
 "nbformat": 4,
 "nbformat_minor": 5
}
